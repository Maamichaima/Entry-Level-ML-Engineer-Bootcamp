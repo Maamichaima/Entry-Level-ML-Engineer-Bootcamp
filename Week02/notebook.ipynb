{
  "cells": [
    {
      "cell_type": "markdown",
      "metadata": {
        "id": "O5pQ4g2TihFV"
      },
      "source": [
        "# 🚀 Week 02: Training Machine Learning Models 🎯  \n",
        "\n",
        "This week, we dive deeper into **Machine Learning** by learning how to **train models** for different types of problems, including **classification** and **prediction** tasks. 🧠💡  \n",
        "\n",
        "### What You’ll Learn:  \n",
        "🔹 How to **train models** using real-world data.  \n",
        "🔹 The role of **features** in improving predictions.  \n",
        "🔹 How to **evaluate model performance** and fine-tune it.  \n",
        "🔹 The impact of **hyperparameters** like learning rate and epochs.  \n",
        "\n",
        "By the end of this week, you'll be able to build, train, and test models confidently. Get ready to experiment, analyze, and improve your models! 🚀🔥"
      ]
    },
    {
      "cell_type": "markdown",
      "metadata": {
        "id": "aWsWiuU2ixrv"
      },
      "source": [
        "## Exercise 01 : **Predicting Trip Fare using Linear Regression**  \n",
        "---\n",
        "\n",
        "### **Objective**  \n",
        "The goal of this task is to build a machine learning model that predicts the fare price of a trip based on selected features. You will go through the full machine learning workflow, including data preprocessing, model training, evaluation, and visualization.  \n",
        "\n",
        "### **Tasks Overview**  \n",
        "\n",
        "Follow these steps to train and evaluate a machine learning model:  \n",
        "\n",
        "1. **Load and Explore the Data** 📝  \n",
        "2. **Prepare the Data** 🔧  \n",
        "3. **Train the Model** 🎯  \n",
        "4. **Make Predictions** 🔮  \n",
        "5. **Evaluate the Model** 📊  \n",
        "\n",
        "### **Resources**  \n",
        "[A Visual Introduction To (Almost) Everything You Should Know](https://mlu-explain.github.io/linear-regression/)\n",
        "\n",
        "---"
      ]
    },
    {
      "cell_type": "markdown",
      "metadata": {
        "id": "4fOn-MdLlkyL"
      },
      "source": [
        "###1.Load and Explore the Data 📝\n",
        "\n",
        "Load the dataset using pandas and inspect its structure.\n",
        "Check for missing values and basic statistics.\n",
        "Visualize key features to understand their relationship with the target variable."
      ]
    },
    {
      "cell_type": "code",
      "execution_count": 20,
      "metadata": {
        "id": "neETq2DSi4OA"
      },
      "outputs": [],
      "source": [
        "data_url = \"https://download.mlcc.google.com/mledu-datasets/chicago_taxi_train.csv\"\n",
        "# add your code here\n",
        "import pandas as pd\n",
        "import numpy as np\n",
        "\n",
        "df = pd.read_csv(\"Admission_Prediction_Challenge.csv\")\n"
      ]
    },
    {
      "cell_type": "markdown",
      "metadata": {
        "id": "JCK91KRVlwq-"
      },
      "source": [
        "###2.Prepare the Data 🔧  \n",
        "   - Select the most relevant features for training.  \n",
        "   - Handle missing values if needed.  \n",
        "   - Normalize or scale the data to improve performance if needed\n",
        "   - Split the dataset into **training (80%)** and **testing (20%)** sets.  \n",
        "\n",
        ">🙋 **Why we need to split our dataset**❓"
      ]
    },
    {
      "cell_type": "code",
      "execution_count": 31,
      "metadata": {
        "id": "bwV79EU6nJVI"
      },
      "outputs": [],
      "source": [
        "# add your code here\n",
        "\n",
        "from sklearn.preprocessing import MinMaxScaler\n",
        "import seaborn as sns\n",
        "import pandas as pd\n",
        "import numpy as np\n",
        "from sklearn.model_selection import train_test_split\n",
        "\n",
        "# sns.heatmap(df.corr(), annot=True)\n",
        "\n",
        "# you forget to scale the data \n",
        "x = df.drop(columns=['Chance of Admit ', 'Serial No.'])\n",
        "y = df['Chance of Admit ']\n",
        "# print(x)\n",
        "# x_scaled = scaler.fit_transform(x)\n",
        "scaler = MinMaxScaler()\n",
        "x_scaled = scaler.fit_transform(x) # <-- FIT step!\n",
        "x_scaled_df = pd.DataFrame(x_scaled, columns=x.columns)\n",
        "\n",
        "x_train, x_test, y_train, y_test = train_test_split(x_scaled_df, y, test_size=0.2, random_state=42) #learn more about Underfitting and Overfitting\n",
        "# 0.2 represent the percentage of the dataset to test split \n",
        "#random_state -->  reproduire exactement la même séparation à chaque exécution du code (on peux utilise un autre nombre diffe a 42 ...)\n",
        "\n",
        "\n",
        "# Why we need to split our dataset❓ ==> https://www.youtube.com/watch?v=dSCFk168vmo"
      ]
    },
    {
      "cell_type": "markdown",
      "metadata": {
        "id": "dweBnkYdnO69"
      },
      "source": [
        "### 3. Train the Model 🎯  \n",
        "\n",
        "Train a **linear regression model** using `sklearn` (you can also try other alternatives).  \n",
        "\n",
        "🔧 **Experiment with Different Features**  \n",
        "- Start with a few features and observe the model's performance.  \n",
        "- Try adding or removing features to see how it affects accuracy.  \n",
        "\n",
        "> 🙋 **What are hyperparameters, and how do learning rate and epochs affect training** ❓\n",
        "\n",
        "> 🙋 **Does using more features always improve the model** ❓"
      ]
    },
    {
      "cell_type": "code",
      "execution_count": 32,
      "metadata": {
        "id": "zxmgph-poA05"
      },
      "outputs": [
        {
          "data": {
            "image/png": "[encoded data removed]",
            "text/plain": [
              "<Figure size 640x480 with 1 Axes>"
            ]
          },
          "metadata": {},
          "output_type": "display_data"
        },
        {
          "name": "stdout",
          "output_type": "stream",
          "text": [
            "Fonction coût (MSE) : 0.00\n",
            "Accuracy: 0.95\n"
          ]
        }
      ],
      "source": [
        "\n",
        "from sklearn.linear_model import LinearRegression\n",
        "import matplotlib.pyplot as plt\n",
        "from sklearn.metrics import mean_squared_error, r2_score\n",
        "\n",
        "model = LinearRegression()\n",
        "model.fit(x_train, y_train)\n",
        "# Lire les données : il récupère les valeurs dans X (les heures) et y (les scores).\n",
        "# Calculer la droite idéale : il cherche les meilleurs paramètres a et b qui minimisent l’erreur entre : ce que le modèle préditet ce que les données réelles disent.\n",
        "# Formule utilisée : il utilise la méthode des moindres carrés pour ça.\n",
        "# voila un vedio qui explique comment faire le calcule de a et b \"https://www.youtube.com/watch?v=HaDrhuQPOQ4&t=479s\"\n",
        "# donc voila a et b \n",
        "# print(f\"Pente (a) : {model.coef_[0]}\")\n",
        "# print(f\"Ordonnée à l’origine (b) : {model.intercept_}\")\n",
        "\n",
        "y_pred = model.predict(x_test) # y_prédit = a * X + b\n",
        "\n",
        "plt.scatter(x_test['TOEFL Score'], y_test, color='blue', label=\"Actual\")# y_test hwa li deja 3ndna f database\n",
        "plt.scatter(x_test['TOEFL Score'], y_pred, color='red', label=\"Predicted\")# y_pred hwa result dyal model dyalna \n",
        "plt.xlabel(\"TOEFL Score\")\n",
        "plt.ylabel(\"Chance of Admit\")\n",
        "plt.legend()\n",
        "plt.show()\n",
        "cost = mean_squared_error(y_test, y_pred)\n",
        "print(f\"Fonction coût (MSE) : {cost:.2f}\")\n",
        "from sklearn.metrics import accuracy_score\n",
        "\n",
        "# transformer y_test et y_pred en binaire \n",
        "y_test_binary = (y_test >= 0.75).astype(int)\n",
        "y_pred_binary = (y_pred >= 0.75).astype(int)\n",
        "#commpare les (0 et 1) entre test et predect et indique la proba\n",
        "accuracy = accuracy_score(y_test_binary, y_pred_binary)\n",
        "print(f\"Accuracy: {accuracy:.2f}\")"
      ]
    },
    {
      "cell_type": "markdown",
      "metadata": {
        "id": "h7uXQVjIpzUw"
      },
      "source": [
        "#### 🎉 Congratulations! 🎉\n",
        "\n",
        "**🚀You’ve just trained your first Machine Learning model! 🚀**"
      ]
    },
    {
      "cell_type": "markdown",
      "metadata": {
        "id": "myQJktwdoRm9"
      },
      "source": [
        "### 4. Make Predictions 🔮  \n",
        "\n",
        "Use the trained model to predict values on the **testing data**.  \n",
        "Compare the predictions with the actual values to assess accuracy.  \n",
        "You can also try making predictions on the **training data** to see how well the model memorized the patterns.  \n",
        "\n",
        ">🙋 **Why doesn’t the model predict exact values, even when using the training data**❓"
      ]
    },
    {
      "cell_type": "code",
      "execution_count": 33,
      "metadata": {
        "id": "f_f5rdFOpSSJ"
      },
      "outputs": [
        {
          "name": "stdout",
          "output_type": "stream",
          "text": [
            "Features (Scaled): [0.66   0.5714 0.5    0.625  0.5    0.5769 0.    ]\n",
            "Prédiction for Student [GRE=323, ...]: 0.72\n",
            "Actual Chance of Admit for this student (from row 10 of original data): 0.45\n"
          ]
        },
        {
          "name": "stderr",
          "output_type": "stream",
          "text": [
            "/Users/maamichaima/Desktop/Entry-Level-ML-Engineer-Bootcamp/.venv/lib/python3.12/site-packages/sklearn/utils/validation.py:2739: UserWarning: X does not have valid feature names, but MinMaxScaler was fitted with feature names\n",
            "  warnings.warn(\n",
            "/Users/maamichaima/Desktop/Entry-Level-ML-Engineer-Bootcamp/.venv/lib/python3.12/site-packages/sklearn/utils/validation.py:2739: UserWarning: X does not have valid feature names, but LinearRegression was fitted with feature names\n",
            "  warnings.warn(\n"
          ]
        }
      ],
      "source": [
        "# add your code here\n",
        "# example_student_data = np.array([[10, 323, 108, 3, 3.5, 3, 8.6, 0]])\n",
        "\n",
        "example_features = np.array([[323, 108, 3, 3.5, 3, 8.6, 0]])\n",
        "example_features_scaled = scaler.transform(example_features)\n",
        "\n",
        "prediction = model.predict(example_features_scaled)\n",
        "print(f\"Features (Scaled): {example_features_scaled.round(4)[0]}\")\n",
        "print(f\"Prédiction for Student [GRE=323, ...]: {prediction[0]:.2f}\")\n",
        "print(f\"Actual Chance of Admit for this student (from row 10 of original data): 0.45\")\n",
        "# Overfitting Le modèle s'adapte trop bien aux données d'entraînement, mais ne généralise pas bien sur les données de test.\n",
        "\n",
        "# Underfitting Le modèle ne s'adapte pas bien aux données d'entraînement."
      ]
    },
    {
      "cell_type": "markdown",
      "metadata": {
        "id": "X5cKVUyfqI1Q"
      },
      "source": [
        "###5.Evaluate the Model 📊\n",
        "\n",
        "Measure performance using metrics like MSE, RMSE, and R² Score.\n",
        "Plot a loss curve to track training progress.\n",
        "Create a scatter plot to compare actual vs. predicted values.\n",
        "\n",
        ">🙋 **What do MSE, RMSE, and R² Score tell us about the model's performance**❓\n",
        "\n",
        ">🙋 **How can you tell if your model is overfitting or underfitting**❓\n"
      ]
    },
    {
      "cell_type": "code",
      "execution_count": 36,
      "metadata": {
        "id": "j-xuuGjgrswb"
      },
      "outputs": [
        {
          "name": "stdout",
          "output_type": "stream",
          "text": [
            "Mean Squared Error (MSE): 0.0046\n",
            "Root Mean Squared Error (RMSE): 0.0679\n",
            "R² Score r2_test:  0.8212\n",
            "R² Score r2_train:  0.7952\n"
          ]
        }
      ],
      "source": [
        "# add your code here\n",
        "\n",
        "# calcul mse\n",
        "mse = mean_squared_error(y_test, y_pred) \n",
        "\n",
        "# calcul rmse\n",
        "rmse = np.sqrt(mse)\n",
        "\n",
        "# calcul de R² Score (test)\n",
        "r2_test = r2_score(y_test, y_pred)\n",
        "\n",
        "# calcul de R² Score (train)\n",
        "y_train_pred = model.predict(x_train)\n",
        "r2_train = r2_score(y_train, y_train_pred)\n",
        "\n",
        "print(f\"Mean Squared Error (MSE): {mse:.4f}\")\n",
        "print(f\"Root Mean Squared Error (RMSE): {rmse:.4f}\")\n",
        "print(f\"R² Score r2_test:  {r2_test:.4f}\")\n",
        "print(f\"R² Score r2_train:  {r2_train:.4f}\")\n",
        "\n"
      ]
    },
    {
      "cell_type": "markdown",
      "metadata": {
        "id": "ESzz51iwi3QN"
      },
      "source": [
        "---\n",
        "## Exercise 02 : **University Admission Prediction Challenge**\n",
        "\n",
        "😇 I know that the exercise is difficult, but you will practice what you learned last week along with your first classification algorithm.\n",
        "\n",
        "### 🎯 Objective\n",
        "\n",
        "Your mission is to predict whether a student will be admitted to their desired university based on various academic and application-related factors. You’ll use **Logistic Regression** to build a predictive model and discuss its strengths and limitations.\n",
        "\n",
        "📊 The Dataset  :\n",
        "\n",
        "[Admission_Predict.csv](https://github.com/1337-Artificial-Intelligence/Entry-Level-ML-Engineer-Bootcamp/blob/main/Week02/Admission_Prediction_Challenge.csv)\n",
        "\n",
        "The dataset contains information on **400 students** with the following attributes:\n",
        "\n",
        "- **GRE Score** 🎓\n",
        "- **TOEFL Score** 📚\n",
        "- **University Rating** 🏛️\n",
        "- **Statement of Purpose (SOP) Score** ✍️\n",
        "- **Letter of Recommendation (LOR) Score** 📩\n",
        "- **Cumulative Grade Point Average (CGPA)** 🎯\n",
        "- **Research Experience (Yes/No)** 🔬\n",
        "- **Chance of Admission (Target Variable: 0 or 1)**\n",
        "\n",
        "### 🛠️ Steps to Follow\n",
        "\n",
        "1. **Load & Explore the Data**: Understand the dataset, check for missing values, and analyze distributions.\n",
        "2. **Feature Selection & Processing**: Identify relevant features and scale them if needed.\n",
        "3. **Train a Logistic Regression Model**: Implement Logistic Regression (**from scratch** optional) to classify students into \"Admitted\" or \"Not Admitted.\"\n",
        "4. **Evaluate the Model**: Measure accuracy, precision, recall, and other key metrics.(do some reaserch 🙂)\n",
        "5. **Discuss Limitations**: Explore cases where Logistic Regression may struggle and suggest improvements (e.g., feature engineering, alternative models).\n",
        "\n",
        "### **Resources**  \n",
        "[Logistic Regression](https://mlu-explain.github.io/logistic-regression/)\n",
        "\n",
        "### 🎨 Bonus: Visual Exploration\n",
        "\n",
        "Use **histograms, correlation heatmaps, and scatter plots** to gain insights before modeling.\n",
        "\n",
        "🔎 **Can you build a model that accurately predicts student admissions?** Let's find out! 🚀"
      ]
    },
    {
      "cell_type": "code",
      "execution_count": 6,
      "metadata": {
        "id": "g9JuLXcoi78E"
      },
      "outputs": [],
      "source": [
        "# add your code here"
      ]
    },
    {
      "cell_type": "markdown",
      "metadata": {
        "id": "tRv_puvCi9Pu"
      },
      "source": [
        "---\n",
        "##🎉 **Congratulations!** 🎉  \n",
        "\n",
        "You've successfully trained your first **Linear Regression** and **Logistic Regression** models! 🚀  \n",
        "\n",
        "Through this journey, you've learned:  \n",
        "✅ How to **prepare and preprocess data** for training.  \n",
        "✅ The importance of **choosing the right features** and tuning **hyperparameters**.  \n",
        "✅ How to **train, predict, and evaluate models** using key metrics.  \n",
        "✅ The difference between **regression (predicting continuous values)** and **classification (predicting categories)**.  \n",
        "\n",
        "This is a **big step** in your Machine Learning journey! 💡 But ML is much more than just linear and logistic regression—there are many other models and techniques to explore.  \n",
        "\n",
        "🔎 **Next Challenge:**  \n",
        "- Research other **types of ML models** (e.g., Decision Trees, SVMs, Neural Networks).  \n",
        "- Try solving different **real-world problems** using what you've learned.  \n",
        "\n",
        "👏 Keep experimenting, keep learning, and welcome to the world of Machine Learning! 🚀🔥"
      ]
    }
  ],
  "metadata": {
    "colab": {
      "collapsed_sections": [
        "aWsWiuU2ixrv"
      ],
      "provenance": []
    },
    "kernelspec": {
      "display_name": ".venv (3.12.0)",
      "language": "python",
      "name": "python3"
    },
    "language_info": {
      "codemirror_mode": {
        "name": "ipython",
        "version": 3
      },
      "file_extension": ".py",
      "mimetype": "text/x-python",
      "name": "python",
      "nbconvert_exporter": "python",
      "pygments_lexer": "ipython3",
      "version": "3.12.0"
    }
  },
  "nbformat": 4,
  "nbformat_minor": 0
}
